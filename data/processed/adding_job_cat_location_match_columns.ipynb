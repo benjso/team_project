{
 "cells": [
  {
   "cell_type": "code",
   "execution_count": 2,
   "metadata": {},
   "outputs": [
    {
     "name": "stdout",
     "output_type": "stream",
     "text": [
      "   work_year experience_level employment_type                  job_title  \\\n",
      "0       2024               SE              FT                AI Engineer   \n",
      "1       2024               SE              FT                AI Engineer   \n",
      "2       2024               SE              FT              Data Engineer   \n",
      "3       2024               SE              FT              Data Engineer   \n",
      "4       2024               SE              FT  Machine Learning Engineer   \n",
      "\n",
      "   salary salary_currency  salary_in_usd employee_residence  remote_ratio  \\\n",
      "0  202730             USD         202730                 US             0   \n",
      "1   92118             USD          92118                 US             0   \n",
      "2  130500             USD         130500                 US             0   \n",
      "3   96000             USD          96000                 US             0   \n",
      "4  190000             USD         190000                 US             0   \n",
      "\n",
      "  company_location company_size  \n",
      "0               US            M  \n",
      "1               US            M  \n",
      "2               US            M  \n",
      "3               US            M  \n",
      "4               US            M  \n"
     ]
    }
   ],
   "source": [
    "import pandas as pd\n",
    "\n",
    "# Placeholder for the relative path to your CSV file\n",
    "relative_path = '../raw/datasetsalary2024.csv'\n",
    "\n",
    "# Reading the CSV file into a DataFrame\n",
    "df = pd.read_csv(relative_path)\n",
    "\n",
    "# Displaying the first few rows of the DataFrame\n",
    "print(df.head())"
   ]
  },
  {
   "cell_type": "code",
   "execution_count": 4,
   "metadata": {},
   "outputs": [
    {
     "name": "stdout",
     "output_type": "stream",
     "text": [
      "   work_year experience_level employment_type                  job_title  \\\n",
      "0       2024               SE              FT                AI Engineer   \n",
      "1       2024               SE              FT                AI Engineer   \n",
      "2       2024               SE              FT              Data Engineer   \n",
      "3       2024               SE              FT              Data Engineer   \n",
      "4       2024               SE              FT  Machine Learning Engineer   \n",
      "\n",
      "   salary salary_currency  salary_in_usd employee_residence  remote_ratio  \\\n",
      "0  202730             USD         202730                 US             0   \n",
      "1   92118             USD          92118                 US             0   \n",
      "2  130500             USD         130500                 US             0   \n",
      "3   96000             USD          96000                 US             0   \n",
      "4  190000             USD         190000                 US             0   \n",
      "\n",
      "  company_location company_size  employee_company_location_match  \n",
      "0               US            M                                1  \n",
      "1               US            M                                1  \n",
      "2               US            M                                1  \n",
      "3               US            M                                1  \n",
      "4               US            M                                1  \n"
     ]
    }
   ],
   "source": [
    "# Adding a new column to the DataFrame that indicates whether the employee's residence matches the company's location\n",
    "df['employee_company_location_match'] = df.apply(lambda row: 1 \n",
    "                                                 if row['employee_residence'] == row['company_location'] \n",
    "                                                 else 0, axis=1)\n",
    "\n",
    "print(df.head())"
   ]
  },
  {
   "cell_type": "code",
   "execution_count": 13,
   "metadata": {},
   "outputs": [
    {
     "name": "stdout",
     "output_type": "stream",
     "text": [
      "   work_year experience_level employment_type                  job_title  \\\n",
      "0       2024               SE              FT                AI Engineer   \n",
      "1       2024               SE              FT                AI Engineer   \n",
      "2       2024               SE              FT              Data Engineer   \n",
      "3       2024               SE              FT              Data Engineer   \n",
      "4       2024               SE              FT  Machine Learning Engineer   \n",
      "\n",
      "   salary salary_currency  salary_in_usd employee_residence  remote_ratio  \\\n",
      "0  202730             USD         202730                 US             0   \n",
      "1   92118             USD          92118                 US             0   \n",
      "2  130500             USD         130500                 US             0   \n",
      "3   96000             USD          96000                 US             0   \n",
      "4  190000             USD         190000                 US             0   \n",
      "\n",
      "  company_location company_size  employee_company_location_match  \\\n",
      "0               US            M                                1   \n",
      "1               US            M                                1   \n",
      "2               US            M                                1   \n",
      "3               US            M                                1   \n",
      "4               US            M                                1   \n",
      "\n",
      "                    job_function  \n",
      "0                AI Related Jobs  \n",
      "1                AI Related Jobs  \n",
      "2              Data Related Jobs  \n",
      "3              Data Related Jobs  \n",
      "4  Machine Learning Related Jobs  \n"
     ]
    }
   ],
   "source": [
    "def categorize_job_function(job_title):\n",
    "    \"\"\"\n",
    "    Categorizes job titles based on the presence of certain strings within the job title.\n",
    "    \n",
    "    Parameters:\n",
    "    - job_title: The job title to categorize.\n",
    "    \n",
    "    Returns:\n",
    "    - A category based on whether checked substring is in the job title.\n",
    "    \"\"\"\n",
    "    if 'data' in job_title.lower():\n",
    "        return 'Data Related Jobs'\n",
    "    elif 'ai' in job_title.lower():\n",
    "        return  'AI Related Jobs'\n",
    "    elif 'ml' in job_title.lower() or 'machine learning' in job_title.lower():\n",
    "        return 'Machine Learning Related Jobs'\n",
    "    elif 'bi' in job_title.lower() or 'business intelligence' in job_title.lower():\n",
    "        return 'Business Intelligence Related Jobs'\n",
    "    else:\n",
    "        return 'Other Functions'\n",
    "# Applying the function to the job_title column to create a new category column\n",
    "df['job_function'] = df['job_title'].apply(categorize_job_function)\n",
    "\n",
    "# Displaying the first few rows to verify the new column\n",
    "print(df.head())"
   ]
  },
  {
   "cell_type": "code",
   "execution_count": 14,
   "metadata": {},
   "outputs": [
    {
     "name": "stdout",
     "output_type": "stream",
     "text": [
      "   work_year experience_level employment_type                  job_title  \\\n",
      "0       2024               SE              FT                AI Engineer   \n",
      "1       2024               SE              FT                AI Engineer   \n",
      "2       2024               SE              FT              Data Engineer   \n",
      "3       2024               SE              FT              Data Engineer   \n",
      "4       2024               SE              FT  Machine Learning Engineer   \n",
      "\n",
      "   salary salary_currency  salary_in_usd employee_residence  remote_ratio  \\\n",
      "0  202730             USD         202730                 US             0   \n",
      "1   92118             USD          92118                 US             0   \n",
      "2  130500             USD         130500                 US             0   \n",
      "3   96000             USD          96000                 US             0   \n",
      "4  190000             USD         190000                 US             0   \n",
      "\n",
      "  company_location company_size  employee_company_location_match  \\\n",
      "0               US            M                                1   \n",
      "1               US            M                                1   \n",
      "2               US            M                                1   \n",
      "3               US            M                                1   \n",
      "4               US            M                                1   \n",
      "\n",
      "                    job_function        job_seniority  \n",
      "0                AI Related Jobs  Engineer or Analyst  \n",
      "1                AI Related Jobs  Engineer or Analyst  \n",
      "2              Data Related Jobs  Engineer or Analyst  \n",
      "3              Data Related Jobs  Engineer or Analyst  \n",
      "4  Machine Learning Related Jobs  Engineer or Analyst  \n"
     ]
    }
   ],
   "source": [
    "def categorize_job_seniority(job_title):\n",
    "    \"\"\"\n",
    "    Categorizes job titles based on the presence of certain strings within the job title.\n",
    "    \n",
    "    Parameters:\n",
    "    - job_title: The job title to categorize.\n",
    "    \n",
    "    Returns:\n",
    "    - A category based on whether checked substring is in the job title.\n",
    "    \"\"\"\n",
    "    if 'engineer' in job_title.lower() or 'analyst' in job_title.lower():\n",
    "        return 'Engineer or Analyst'\n",
    "    elif 'architect' in job_title.lower():\n",
    "        return  'Architect'\n",
    "    elif 'admin' in job_title.lower() or 'lead' in job_title.lower():\n",
    "        return 'Administrator or Lead'\n",
    "    elif 'manage' in job_title.lower():\n",
    "        return 'Manager'\n",
    "    else:\n",
    "        return 'Other Seniority'\n",
    "# Applying the function to the job_title column to create a new category column\n",
    "df['job_seniority'] = df['job_title'].apply(categorize_job_seniority)\n",
    "\n",
    "# Displaying the first few rows to verify the new column\n",
    "print(df.head())"
   ]
  },
  {
   "cell_type": "code",
   "execution_count": 22,
   "metadata": {},
   "outputs": [
    {
     "name": "stdout",
     "output_type": "stream",
     "text": [
      "Job Function Counts:\n",
      "job_function\n",
      "Data Related Jobs                     11322\n",
      "Machine Learning Related Jobs          2202\n",
      "Other Functions                        2020\n",
      "Business Intelligence Related Jobs      771\n",
      "AI Related Jobs                         219\n",
      "Name: count, dtype: int64\n",
      "\n",
      "Job Seniority Counts:\n",
      "job_seniority\n",
      "Engineer or Analyst      9814\n",
      "Other Seniority          5654\n",
      "Manager                   498\n",
      "Architect                 469\n",
      "Administrator or Lead      99\n",
      "Name: count, dtype: int64\n",
      "\n",
      "Employee-Company Location Match Counts:\n",
      "employee_company_location_match\n",
      "1    16404\n",
      "0      130\n",
      "Name: count, dtype: int64\n"
     ]
    }
   ],
   "source": [
    "# Counting the number of employees in each job function and seniority category\n",
    "job_function_counts = df['job_function'].value_counts()\n",
    "job_seniority_counts = df['job_seniority'].value_counts()\n",
    "location_match_counts = df['employee_company_location_match'].value_counts()\n",
    "\n",
    "print(\"Job Function Counts:\")\n",
    "print(job_function_counts)\n",
    "\n",
    "print(\"\\nJob Seniority Counts:\")\n",
    "print(job_seniority_counts)\n",
    "\n",
    "print(\"\\nEmployee-Company Location Match Counts:\")\n",
    "print(location_match_counts)"
   ]
  },
  {
   "cell_type": "code",
   "execution_count": 21,
   "metadata": {},
   "outputs": [],
   "source": [
    "# Saving the updated DataFrame to a new CSV file into modified folder\n",
    "df.to_csv('./datasetsalary2024_modified.csv', index=False)"
   ]
  }
 ],
 "metadata": {
  "kernelspec": {
   "display_name": "dsi_participant",
   "language": "python",
   "name": "python3"
  },
  "language_info": {
   "codemirror_mode": {
    "name": "ipython",
    "version": 3
   },
   "file_extension": ".py",
   "mimetype": "text/x-python",
   "name": "python",
   "nbconvert_exporter": "python",
   "pygments_lexer": "ipython3",
   "version": "3.9.18"
  }
 },
 "nbformat": 4,
 "nbformat_minor": 2
}
